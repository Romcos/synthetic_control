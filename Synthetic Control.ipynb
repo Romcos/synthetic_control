{
 "cells": [
  {
   "cell_type": "code",
   "execution_count": 10,
   "metadata": {},
   "outputs": [],
   "source": [
    "import numpy as np\n",
    "import scipy.optimize"
   ]
  },
  {
   "cell_type": "code",
   "execution_count": 28,
   "metadata": {},
   "outputs": [],
   "source": [
    "def reg_syn_control(X,y):\n",
    "    \"\"\"\n",
    "    Convex regression.\n",
    "    \n",
    "    The optimization objective for synthetic control is:\n",
    "    \n",
    "        ||y - Xw||^2_2\n",
    "        Constrained: w>=0 & \\sum_i(w_i)=1\n",
    "    \n",
    "    Parameters\n",
    "    ----------\n",
    "    X: shape (p,n)\n",
    "    y: shape (p)\n",
    "    \n",
    "    \"\"\"\n",
    "    p,n = X.shape\n",
    "\n",
    "    #Objective function\n",
    "    def f(w):\n",
    "        return ((np.dot(X,w) - y)**2).sum()\n",
    "    \n",
    "    def jac_f(w):\n",
    "        return (-(2*((y-np.dot(A,w)).T).dot(A)))\n",
    "    \n",
    "    #Defining constraints\n",
    "    def sum_con(w):\n",
    "        return (np.ones((n)).dot(w) - 1)\n",
    "    dic_sum_con = {\"type\":\"eq\",\"fun\":sum_con}\n",
    "    \n",
    "    def positive_con(w):\n",
    "        return w\n",
    "    dic_positive_con = {\"type\":\"ineq\",\"fun\":positive_con}\n",
    "    \n",
    "    cons = [dic_sum_con,dic_positive_con]\n",
    "    \n",
    "    #Scipy optimization\n",
    "    result = scipy.optimize.minimize(f, np.ones(n)/n, jac = jac_f,constraints = cons,method=\"SLSQP\")\n",
    "    return result"
   ]
  },
  {
   "cell_type": "code",
   "execution_count": 31,
   "metadata": {},
   "outputs": [],
   "source": [
    "A = np.array([[1,2, 3], \\\n",
    "    [1,1,1]]).T\n",
    "\n",
    "y = -np.array([1,2,2])\n",
    "\n",
    "result = reg_syn_control(A,y)"
   ]
  },
  {
   "cell_type": "code",
   "execution_count": 32,
   "metadata": {},
   "outputs": [
    {
     "data": {
      "text/plain": [
       "     fun: 21.99999999999009\n",
       "     jac: array([34., 16.])\n",
       " message: 'Optimization terminated successfully.'\n",
       "    nfev: 2\n",
       "     nit: 2\n",
       "    njev: 2\n",
       "  status: 0\n",
       " success: True\n",
       "       x: array([-5.50448576e-13,  1.00000000e+00])"
      ]
     },
     "execution_count": 32,
     "metadata": {},
     "output_type": "execute_result"
    }
   ],
   "source": [
    "result"
   ]
  },
  {
   "cell_type": "code",
   "execution_count": null,
   "metadata": {},
   "outputs": [],
   "source": []
  }
 ],
 "metadata": {
  "kernelspec": {
   "display_name": "Python 3",
   "language": "python",
   "name": "python3"
  },
  "language_info": {
   "codemirror_mode": {
    "name": "ipython",
    "version": 3
   },
   "file_extension": ".py",
   "mimetype": "text/x-python",
   "name": "python",
   "nbconvert_exporter": "python",
   "pygments_lexer": "ipython3",
   "version": "3.7.0"
  }
 },
 "nbformat": 4,
 "nbformat_minor": 2
}
